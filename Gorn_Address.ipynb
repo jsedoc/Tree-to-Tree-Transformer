{
  "nbformat": 4,
  "nbformat_minor": 0,
  "metadata": {
    "colab": {
      "name": "Gorn_Address.ipynb",
      "version": "0.3.2",
      "provenance": [],
      "include_colab_link": true
    },
    "kernelspec": {
      "name": "python3",
      "display_name": "Python 3"
    }
  },
  "cells": [
    {
      "cell_type": "markdown",
      "metadata": {
        "id": "view-in-github",
        "colab_type": "text"
      },
      "source": [
        "<a href=\"https://colab.research.google.com/github/jsedoc/Tree-to-Tree-Transformer/blob/master/Gorn_Address.ipynb\" target=\"_parent\"><img src=\"https://colab.research.google.com/assets/colab-badge.svg\" alt=\"Open In Colab\"/></a>"
      ]
    },
    {
      "metadata": {
        "id": "jSH8nGFjl77C",
        "colab_type": "code",
        "colab": {
          "base_uri": "https://localhost:8080/",
          "height": 71
        },
        "outputId": "a93eb02d-a2e9-4384-c91d-e5b0dc35c3b8"
      },
      "cell_type": "code",
      "source": [
        "from tqdm import tqdm\n",
        "from nltk import Tree,ParentedTree\n",
        "\n",
        "class Dataset():\n",
        "    def __len__(self):\n",
        "        return self.size\n",
        "\n",
        "    def read_trees(self, filename):\n",
        "        with open(filename, 'r') as f:\n",
        "            trees = [Tree.fromstring(line) for line in tqdm(f.readlines())]\n",
        "        return trees\n",
        "      \n",
        "from google.colab import drive\n",
        "drive.mount('/content/gdrive/')\n",
        "datapath = 'gdrive/My Drive/data/train'\n",
        "dataset = Dataset()\n",
        "trees = dataset.read_trees(datapath)"
      ],
      "execution_count": 1,
      "outputs": [
        {
          "output_type": "stream",
          "text": [
            "100%|██████████| 1000/1000 [00:00<00:00, 32917.16it/s]"
          ],
          "name": "stderr"
        },
        {
          "output_type": "stream",
          "text": [
            "Drive already mounted at /content/gdrive/; to attempt to forcibly remount, call drive.mount(\"/content/gdrive/\", force_remount=True).\n"
          ],
          "name": "stdout"
        },
        {
          "output_type": "stream",
          "text": [
            "\n"
          ],
          "name": "stderr"
        }
      ]
    },
    {
      "metadata": {
        "id": "iVd2pK74pL6f",
        "colab_type": "code",
        "colab": {}
      },
      "cell_type": "code",
      "source": [
        "def find_gorn_address(tree, string, gorn_address):\n",
        "    gorn_address.append(string)\n",
        "    count = 0\n",
        "    strtemp = string\n",
        "    for subtree in tree:\n",
        "        string = strtemp + str(count)\n",
        "        if type(subtree) == Tree:\n",
        "            find_gorn_address(subtree, string, gorn_address)\n",
        "         \n",
        "        else:\n",
        "            gorn_address.append(string)\n",
        "        count = count+1"
      ],
      "execution_count": 0,
      "outputs": []
    },
    {
      "metadata": {
        "id": "Se6fxV3huW11",
        "colab_type": "code",
        "colab": {}
      },
      "cell_type": "code",
      "source": [
        "with open('train_gorn.txt', 'w') as gornfile:\n",
        "  for tree in trees:\n",
        "    gorn_address = []\n",
        "    find_gorn_address(tree, \"\", gorn_address)\n",
        "    gornfile.write(str(gorn_address)+'\\n')"
      ],
      "execution_count": 0,
      "outputs": []
    }
  ]
}